{
 "cells": [
  {
   "cell_type": "markdown",
   "id": "0a535ee8",
   "metadata": {},
   "source": [
    "# hic sunt data processing"
   ]
  },
  {
   "cell_type": "markdown",
   "id": "79d6792d",
   "metadata": {},
   "source": []
  }
 ],
 "metadata": {
  "language_info": {
   "name": "python"
  }
 },
 "nbformat": 4,
 "nbformat_minor": 5
}
